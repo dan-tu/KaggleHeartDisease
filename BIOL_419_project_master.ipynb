{
 "cells": [
  {
   "cell_type": "markdown",
   "metadata": {
    "colab_type": "text",
    "id": "WFR_rtFJT23y"
   },
   "source": [
    "# Classifying Heart Disease\n",
    "\n",
    "\n",
    "### Data Source\n",
    "https://www.kaggle.com/ronitf/heart-disease-uci"
   ]
  },
  {
   "cell_type": "code",
   "execution_count": 1,
   "metadata": {
    "colab": {
     "base_uri": "https://localhost:8080/",
     "height": 204
    },
    "colab_type": "code",
    "id": "jZY0Uo8_1mMT",
    "outputId": "5522c0ac-bba3-413f-f6c2-91666959e4fa"
   },
   "outputs": [
    {
     "data": {
      "text/html": [
       "<div>\n",
       "<style scoped>\n",
       "    .dataframe tbody tr th:only-of-type {\n",
       "        vertical-align: middle;\n",
       "    }\n",
       "\n",
       "    .dataframe tbody tr th {\n",
       "        vertical-align: top;\n",
       "    }\n",
       "\n",
       "    .dataframe thead th {\n",
       "        text-align: right;\n",
       "    }\n",
       "</style>\n",
       "<table border=\"1\" class=\"dataframe\">\n",
       "  <thead>\n",
       "    <tr style=\"text-align: right;\">\n",
       "      <th></th>\n",
       "      <th>age</th>\n",
       "      <th>sex</th>\n",
       "      <th>cp</th>\n",
       "      <th>trestbps</th>\n",
       "      <th>chol</th>\n",
       "      <th>fbs</th>\n",
       "      <th>restecg</th>\n",
       "      <th>thalach</th>\n",
       "      <th>exang</th>\n",
       "      <th>oldpeak</th>\n",
       "      <th>slope</th>\n",
       "      <th>ca</th>\n",
       "      <th>thal</th>\n",
       "      <th>target</th>\n",
       "    </tr>\n",
       "  </thead>\n",
       "  <tbody>\n",
       "    <tr>\n",
       "      <th>0</th>\n",
       "      <td>63</td>\n",
       "      <td>1</td>\n",
       "      <td>3</td>\n",
       "      <td>145</td>\n",
       "      <td>233</td>\n",
       "      <td>1</td>\n",
       "      <td>0</td>\n",
       "      <td>150</td>\n",
       "      <td>0</td>\n",
       "      <td>2.3</td>\n",
       "      <td>0</td>\n",
       "      <td>0</td>\n",
       "      <td>1</td>\n",
       "      <td>1</td>\n",
       "    </tr>\n",
       "    <tr>\n",
       "      <th>1</th>\n",
       "      <td>37</td>\n",
       "      <td>1</td>\n",
       "      <td>2</td>\n",
       "      <td>130</td>\n",
       "      <td>250</td>\n",
       "      <td>0</td>\n",
       "      <td>1</td>\n",
       "      <td>187</td>\n",
       "      <td>0</td>\n",
       "      <td>3.5</td>\n",
       "      <td>0</td>\n",
       "      <td>0</td>\n",
       "      <td>2</td>\n",
       "      <td>1</td>\n",
       "    </tr>\n",
       "    <tr>\n",
       "      <th>2</th>\n",
       "      <td>41</td>\n",
       "      <td>0</td>\n",
       "      <td>1</td>\n",
       "      <td>130</td>\n",
       "      <td>204</td>\n",
       "      <td>0</td>\n",
       "      <td>0</td>\n",
       "      <td>172</td>\n",
       "      <td>0</td>\n",
       "      <td>1.4</td>\n",
       "      <td>2</td>\n",
       "      <td>0</td>\n",
       "      <td>2</td>\n",
       "      <td>1</td>\n",
       "    </tr>\n",
       "    <tr>\n",
       "      <th>3</th>\n",
       "      <td>56</td>\n",
       "      <td>1</td>\n",
       "      <td>1</td>\n",
       "      <td>120</td>\n",
       "      <td>236</td>\n",
       "      <td>0</td>\n",
       "      <td>1</td>\n",
       "      <td>178</td>\n",
       "      <td>0</td>\n",
       "      <td>0.8</td>\n",
       "      <td>2</td>\n",
       "      <td>0</td>\n",
       "      <td>2</td>\n",
       "      <td>1</td>\n",
       "    </tr>\n",
       "    <tr>\n",
       "      <th>4</th>\n",
       "      <td>57</td>\n",
       "      <td>0</td>\n",
       "      <td>0</td>\n",
       "      <td>120</td>\n",
       "      <td>354</td>\n",
       "      <td>0</td>\n",
       "      <td>1</td>\n",
       "      <td>163</td>\n",
       "      <td>1</td>\n",
       "      <td>0.6</td>\n",
       "      <td>2</td>\n",
       "      <td>0</td>\n",
       "      <td>2</td>\n",
       "      <td>1</td>\n",
       "    </tr>\n",
       "  </tbody>\n",
       "</table>\n",
       "</div>"
      ],
      "text/plain": [
       "   age  sex  cp  trestbps  chol  fbs  restecg  thalach  exang  oldpeak  slope  \\\n",
       "0   63    1   3       145   233    1        0      150      0      2.3      0   \n",
       "1   37    1   2       130   250    0        1      187      0      3.5      0   \n",
       "2   41    0   1       130   204    0        0      172      0      1.4      2   \n",
       "3   56    1   1       120   236    0        1      178      0      0.8      2   \n",
       "4   57    0   0       120   354    0        1      163      1      0.6      2   \n",
       "\n",
       "   ca  thal  target  \n",
       "0   0     1       1  \n",
       "1   0     2       1  \n",
       "2   0     2       1  \n",
       "3   0     2       1  \n",
       "4   0     2       1  "
      ]
     },
     "execution_count": 1,
     "metadata": {},
     "output_type": "execute_result"
    }
   ],
   "source": [
    "import numpy as np\n",
    "import matplotlib.pyplot as plt\n",
    "import pandas as pd\n",
    "%matplotlib inline\n",
    "\n",
    "url = 'https://raw.githubusercontent.com/ospeltz/BIOL419proj/master/heart.csv?\\\n",
    "token=Atx-bzOd4AGFqLjMVz169QIVrSA1IXG5ks5ce2RYwA%3D%3D'\n",
    "df = pd.read_csv(url)\n",
    "df.head()"
   ]
  },
  {
   "cell_type": "code",
   "execution_count": 2,
   "metadata": {
    "colab": {
     "base_uri": "https://localhost:8080/",
     "height": 297
    },
    "colab_type": "code",
    "id": "dY5n_WyI1yw4",
    "outputId": "a0d4f283-161b-4498-95d6-bf5faa38866b"
   },
   "outputs": [
    {
     "data": {
      "text/html": [
       "<div>\n",
       "<style scoped>\n",
       "    .dataframe tbody tr th:only-of-type {\n",
       "        vertical-align: middle;\n",
       "    }\n",
       "\n",
       "    .dataframe tbody tr th {\n",
       "        vertical-align: top;\n",
       "    }\n",
       "\n",
       "    .dataframe thead th {\n",
       "        text-align: right;\n",
       "    }\n",
       "</style>\n",
       "<table border=\"1\" class=\"dataframe\">\n",
       "  <thead>\n",
       "    <tr style=\"text-align: right;\">\n",
       "      <th></th>\n",
       "      <th>age</th>\n",
       "      <th>sex</th>\n",
       "      <th>cp</th>\n",
       "      <th>trestbps</th>\n",
       "      <th>chol</th>\n",
       "      <th>fbs</th>\n",
       "      <th>restecg</th>\n",
       "      <th>thalach</th>\n",
       "      <th>exang</th>\n",
       "      <th>oldpeak</th>\n",
       "      <th>slope</th>\n",
       "      <th>ca</th>\n",
       "      <th>thal</th>\n",
       "      <th>target</th>\n",
       "    </tr>\n",
       "  </thead>\n",
       "  <tbody>\n",
       "    <tr>\n",
       "      <th>count</th>\n",
       "      <td>303.000000</td>\n",
       "      <td>303.000000</td>\n",
       "      <td>303.000000</td>\n",
       "      <td>303.000000</td>\n",
       "      <td>303.000000</td>\n",
       "      <td>303.000000</td>\n",
       "      <td>303.000000</td>\n",
       "      <td>303.000000</td>\n",
       "      <td>303.000000</td>\n",
       "      <td>303.000000</td>\n",
       "      <td>303.000000</td>\n",
       "      <td>303.000000</td>\n",
       "      <td>303.000000</td>\n",
       "      <td>303.000000</td>\n",
       "    </tr>\n",
       "    <tr>\n",
       "      <th>mean</th>\n",
       "      <td>54.366337</td>\n",
       "      <td>0.683168</td>\n",
       "      <td>0.966997</td>\n",
       "      <td>131.623762</td>\n",
       "      <td>246.264026</td>\n",
       "      <td>0.148515</td>\n",
       "      <td>0.528053</td>\n",
       "      <td>149.646865</td>\n",
       "      <td>0.326733</td>\n",
       "      <td>1.039604</td>\n",
       "      <td>1.399340</td>\n",
       "      <td>0.729373</td>\n",
       "      <td>2.313531</td>\n",
       "      <td>0.544554</td>\n",
       "    </tr>\n",
       "    <tr>\n",
       "      <th>std</th>\n",
       "      <td>9.082101</td>\n",
       "      <td>0.466011</td>\n",
       "      <td>1.032052</td>\n",
       "      <td>17.538143</td>\n",
       "      <td>51.830751</td>\n",
       "      <td>0.356198</td>\n",
       "      <td>0.525860</td>\n",
       "      <td>22.905161</td>\n",
       "      <td>0.469794</td>\n",
       "      <td>1.161075</td>\n",
       "      <td>0.616226</td>\n",
       "      <td>1.022606</td>\n",
       "      <td>0.612277</td>\n",
       "      <td>0.498835</td>\n",
       "    </tr>\n",
       "    <tr>\n",
       "      <th>min</th>\n",
       "      <td>29.000000</td>\n",
       "      <td>0.000000</td>\n",
       "      <td>0.000000</td>\n",
       "      <td>94.000000</td>\n",
       "      <td>126.000000</td>\n",
       "      <td>0.000000</td>\n",
       "      <td>0.000000</td>\n",
       "      <td>71.000000</td>\n",
       "      <td>0.000000</td>\n",
       "      <td>0.000000</td>\n",
       "      <td>0.000000</td>\n",
       "      <td>0.000000</td>\n",
       "      <td>0.000000</td>\n",
       "      <td>0.000000</td>\n",
       "    </tr>\n",
       "    <tr>\n",
       "      <th>25%</th>\n",
       "      <td>47.500000</td>\n",
       "      <td>0.000000</td>\n",
       "      <td>0.000000</td>\n",
       "      <td>120.000000</td>\n",
       "      <td>211.000000</td>\n",
       "      <td>0.000000</td>\n",
       "      <td>0.000000</td>\n",
       "      <td>133.500000</td>\n",
       "      <td>0.000000</td>\n",
       "      <td>0.000000</td>\n",
       "      <td>1.000000</td>\n",
       "      <td>0.000000</td>\n",
       "      <td>2.000000</td>\n",
       "      <td>0.000000</td>\n",
       "    </tr>\n",
       "    <tr>\n",
       "      <th>50%</th>\n",
       "      <td>55.000000</td>\n",
       "      <td>1.000000</td>\n",
       "      <td>1.000000</td>\n",
       "      <td>130.000000</td>\n",
       "      <td>240.000000</td>\n",
       "      <td>0.000000</td>\n",
       "      <td>1.000000</td>\n",
       "      <td>153.000000</td>\n",
       "      <td>0.000000</td>\n",
       "      <td>0.800000</td>\n",
       "      <td>1.000000</td>\n",
       "      <td>0.000000</td>\n",
       "      <td>2.000000</td>\n",
       "      <td>1.000000</td>\n",
       "    </tr>\n",
       "    <tr>\n",
       "      <th>75%</th>\n",
       "      <td>61.000000</td>\n",
       "      <td>1.000000</td>\n",
       "      <td>2.000000</td>\n",
       "      <td>140.000000</td>\n",
       "      <td>274.500000</td>\n",
       "      <td>0.000000</td>\n",
       "      <td>1.000000</td>\n",
       "      <td>166.000000</td>\n",
       "      <td>1.000000</td>\n",
       "      <td>1.600000</td>\n",
       "      <td>2.000000</td>\n",
       "      <td>1.000000</td>\n",
       "      <td>3.000000</td>\n",
       "      <td>1.000000</td>\n",
       "    </tr>\n",
       "    <tr>\n",
       "      <th>max</th>\n",
       "      <td>77.000000</td>\n",
       "      <td>1.000000</td>\n",
       "      <td>3.000000</td>\n",
       "      <td>200.000000</td>\n",
       "      <td>564.000000</td>\n",
       "      <td>1.000000</td>\n",
       "      <td>2.000000</td>\n",
       "      <td>202.000000</td>\n",
       "      <td>1.000000</td>\n",
       "      <td>6.200000</td>\n",
       "      <td>2.000000</td>\n",
       "      <td>4.000000</td>\n",
       "      <td>3.000000</td>\n",
       "      <td>1.000000</td>\n",
       "    </tr>\n",
       "  </tbody>\n",
       "</table>\n",
       "</div>"
      ],
      "text/plain": [
       "              age         sex          cp    trestbps        chol         fbs  \\\n",
       "count  303.000000  303.000000  303.000000  303.000000  303.000000  303.000000   \n",
       "mean    54.366337    0.683168    0.966997  131.623762  246.264026    0.148515   \n",
       "std      9.082101    0.466011    1.032052   17.538143   51.830751    0.356198   \n",
       "min     29.000000    0.000000    0.000000   94.000000  126.000000    0.000000   \n",
       "25%     47.500000    0.000000    0.000000  120.000000  211.000000    0.000000   \n",
       "50%     55.000000    1.000000    1.000000  130.000000  240.000000    0.000000   \n",
       "75%     61.000000    1.000000    2.000000  140.000000  274.500000    0.000000   \n",
       "max     77.000000    1.000000    3.000000  200.000000  564.000000    1.000000   \n",
       "\n",
       "          restecg     thalach       exang     oldpeak       slope          ca  \\\n",
       "count  303.000000  303.000000  303.000000  303.000000  303.000000  303.000000   \n",
       "mean     0.528053  149.646865    0.326733    1.039604    1.399340    0.729373   \n",
       "std      0.525860   22.905161    0.469794    1.161075    0.616226    1.022606   \n",
       "min      0.000000   71.000000    0.000000    0.000000    0.000000    0.000000   \n",
       "25%      0.000000  133.500000    0.000000    0.000000    1.000000    0.000000   \n",
       "50%      1.000000  153.000000    0.000000    0.800000    1.000000    0.000000   \n",
       "75%      1.000000  166.000000    1.000000    1.600000    2.000000    1.000000   \n",
       "max      2.000000  202.000000    1.000000    6.200000    2.000000    4.000000   \n",
       "\n",
       "             thal      target  \n",
       "count  303.000000  303.000000  \n",
       "mean     2.313531    0.544554  \n",
       "std      0.612277    0.498835  \n",
       "min      0.000000    0.000000  \n",
       "25%      2.000000    0.000000  \n",
       "50%      2.000000    1.000000  \n",
       "75%      3.000000    1.000000  \n",
       "max      3.000000    1.000000  "
      ]
     },
     "execution_count": 2,
     "metadata": {},
     "output_type": "execute_result"
    }
   ],
   "source": [
    "df.describe()"
   ]
  },
  {
   "cell_type": "markdown",
   "metadata": {},
   "source": [
    "## Visualization of Data"
   ]
  },
  {
   "cell_type": "code",
   "execution_count": 3,
   "metadata": {
    "colab": {
     "base_uri": "https://localhost:8080/",
     "height": 376
    },
    "colab_type": "code",
    "id": "cLhMfy0XAi5j",
    "outputId": "d739af99-cc0c-49e9-e727-fbf98d15e7dd"
   },
   "outputs": [
    {
     "data": {
      "image/png": "[encoded data removed]",
      "text/plain": [
       "<Figure size 432x288 with 1 Axes>"
      ]
     },
     "metadata": {
      "needs_background": "light"
     },
     "output_type": "display_data"
    }
   ],
   "source": [
    "def hist_heart_disease(col,units=''):\n",
    "    diseased = df[df['target']==0][col].values\n",
    "    healthy = df[df['target']==1][col].values\n",
    "    plt.hist(diseased,color='red',alpha=0.5,label='diseased')\n",
    "    plt.hist(healthy,color='green',alpha=0.5,label='healthy')\n",
    "    plt.legend()\n",
    "    plt.xlabel(col + units)\n",
    "    plt.ylabel('frequency')\n",
    "    plt.title('Histogram of {} and presence of heart disease'.format(col))\n",
    "  \n",
    "  \n",
    "hist_heart_disease('age')"
   ]
  },
  {
   "cell_type": "code",
   "execution_count": 4,
   "metadata": {
    "colab": {
     "base_uri": "https://localhost:8080/",
     "height": 376
    },
    "colab_type": "code",
    "id": "ieKv5rO0Xiu1",
    "outputId": "d3ebd78d-7bf4-4187-fcb2-3a7fe8328fb3"
   },
   "outputs": [
    {
     "data": {
      "image/png": "[encoded data removed]",
      "text/plain": [
       "<Figure size 432x288 with 1 Axes>"
      ]
     },
     "metadata": {
      "needs_background": "light"
     },
     "output_type": "display_data"
    }
   ],
   "source": [
    "hist_heart_disease('thalach')"
   ]
  },
  {
   "cell_type": "code",
   "execution_count": 5,
   "metadata": {
    "colab": {},
    "colab_type": "code",
    "id": "JhwI4unBlHFO"
   },
   "outputs": [
    {
     "data": {
      "image/png": "[encoded data removed]",
      "text/plain": [
       "<Figure size 432x288 with 1 Axes>"
      ]
     },
     "metadata": {
      "needs_background": "light"
     },
     "output_type": "display_data"
    }
   ],
   "source": [
    "men = df[df['sex']==1]\n",
    "women = df[df['sex']==0]\n",
    "men_d = men[men['target']==0]\n",
    "men_h = men[men['target']==1]\n",
    "women_d = women[women['target']==0]\n",
    "women_h = women[women['target']==1]\n",
    "bars = plt.bar(np.arange(4),[len(men_d),len(men_h),len(women_d),len(women_h)],\n",
    "        color=['r','g','r','g'])\n",
    "plt.xticks([0.5,2.5],['men','women'],fontsize=11)\n",
    "bars[0].set_label('diseased')\n",
    "bars[1].set_label('healthy')\n",
    "plt.legend()\n",
    "plt.ylabel('count')\n",
    "plt.title('Heart disease and biological sex')\n",
    "plt.show()"
   ]
  },
  {
   "cell_type": "markdown",
   "metadata": {},
   "source": [
    "## Cleaning up data\n",
    "Use OneHot encoding turn categorical variables into a collection of binary variables."
   ]
  },
  {
   "cell_type": "code",
   "execution_count": 6,
   "metadata": {
    "colab": {},
    "colab_type": "code",
    "id": "Unlmo1hwrjyH"
   },
   "outputs": [],
   "source": [
    "from sklearn.preprocessing import OneHotEncoder\n",
    "\n",
    "def onehot_df(df):\n",
    "    # create a new df with no categorical variables, instead each categorical column\n",
    "    # is turned into multiple binary columns, one for each discrete value in a \n",
    "    # categorical column\n",
    "    enc = OneHotEncoder(sparse=False,categories='auto')\n",
    "    # these are the categorical columns in the whole dataset\n",
    "    categorical_cols = ['sex','cp','fbs','restecg','exang','slope','ca','thal']\n",
    "    # later we take out some variables and use this function on a reduced df\n",
    "    cat_cols = [col for col in categorical_cols if col in df.columns]\n",
    "    clean_df = df.drop(cat_cols,axis=1)\n",
    "    onehot = enc.fit_transform(df[cat_cols])\n",
    "    new_cols = enc.get_feature_names(cat_cols)\n",
    "    for i in range(len(new_cols)):\n",
    "        clean_df[new_cols[i]] = onehot[:,i]\n",
    "\n",
    "    return clean_df\n",
    "\n",
    "clean_df = onehot_df(df)\n",
    "X = clean_df.drop('target', axis=1).values\n",
    "y = clean_df['target'].values"
   ]
  },
  {
   "cell_type": "code",
   "execution_count": 7,
   "metadata": {
    "colab": {},
    "colab_type": "code",
    "id": "qZyCbSZQJcA6"
   },
   "outputs": [
    {
     "data": {
      "text/html": [
       "<div>\n",
       "<style scoped>\n",
       "    .dataframe tbody tr th:only-of-type {\n",
       "        vertical-align: middle;\n",
       "    }\n",
       "\n",
       "    .dataframe tbody tr th {\n",
       "        vertical-align: top;\n",
       "    }\n",
       "\n",
       "    .dataframe thead th {\n",
       "        text-align: right;\n",
       "    }\n",
       "</style>\n",
       "<table border=\"1\" class=\"dataframe\">\n",
       "  <thead>\n",
       "    <tr style=\"text-align: right;\">\n",
       "      <th></th>\n",
       "      <th>age</th>\n",
       "      <th>trestbps</th>\n",
       "      <th>chol</th>\n",
       "      <th>thalach</th>\n",
       "      <th>oldpeak</th>\n",
       "      <th>target</th>\n",
       "      <th>sex_0</th>\n",
       "      <th>sex_1</th>\n",
       "      <th>cp_0</th>\n",
       "      <th>cp_1</th>\n",
       "      <th>...</th>\n",
       "      <th>slope_2</th>\n",
       "      <th>ca_0</th>\n",
       "      <th>ca_1</th>\n",
       "      <th>ca_2</th>\n",
       "      <th>ca_3</th>\n",
       "      <th>ca_4</th>\n",
       "      <th>thal_0</th>\n",
       "      <th>thal_1</th>\n",
       "      <th>thal_2</th>\n",
       "      <th>thal_3</th>\n",
       "    </tr>\n",
       "  </thead>\n",
       "  <tbody>\n",
       "    <tr>\n",
       "      <th>0</th>\n",
       "      <td>63</td>\n",
       "      <td>145</td>\n",
       "      <td>233</td>\n",
       "      <td>150</td>\n",
       "      <td>2.3</td>\n",
       "      <td>1</td>\n",
       "      <td>0.0</td>\n",
       "      <td>1.0</td>\n",
       "      <td>0.0</td>\n",
       "      <td>0.0</td>\n",
       "      <td>...</td>\n",
       "      <td>0.0</td>\n",
       "      <td>1.0</td>\n",
       "      <td>0.0</td>\n",
       "      <td>0.0</td>\n",
       "      <td>0.0</td>\n",
       "      <td>0.0</td>\n",
       "      <td>0.0</td>\n",
       "      <td>1.0</td>\n",
       "      <td>0.0</td>\n",
       "      <td>0.0</td>\n",
       "    </tr>\n",
       "    <tr>\n",
       "      <th>1</th>\n",
       "      <td>37</td>\n",
       "      <td>130</td>\n",
       "      <td>250</td>\n",
       "      <td>187</td>\n",
       "      <td>3.5</td>\n",
       "      <td>1</td>\n",
       "      <td>0.0</td>\n",
       "      <td>1.0</td>\n",
       "      <td>0.0</td>\n",
       "      <td>0.0</td>\n",
       "      <td>...</td>\n",
       "      <td>0.0</td>\n",
       "      <td>1.0</td>\n",
       "      <td>0.0</td>\n",
       "      <td>0.0</td>\n",
       "      <td>0.0</td>\n",
       "      <td>0.0</td>\n",
       "      <td>0.0</td>\n",
       "      <td>0.0</td>\n",
       "      <td>1.0</td>\n",
       "      <td>0.0</td>\n",
       "    </tr>\n",
       "    <tr>\n",
       "      <th>2</th>\n",
       "      <td>41</td>\n",
       "      <td>130</td>\n",
       "      <td>204</td>\n",
       "      <td>172</td>\n",
       "      <td>1.4</td>\n",
       "      <td>1</td>\n",
       "      <td>1.0</td>\n",
       "      <td>0.0</td>\n",
       "      <td>0.0</td>\n",
       "      <td>1.0</td>\n",
       "      <td>...</td>\n",
       "      <td>1.0</td>\n",
       "      <td>1.0</td>\n",
       "      <td>0.0</td>\n",
       "      <td>0.0</td>\n",
       "      <td>0.0</td>\n",
       "      <td>0.0</td>\n",
       "      <td>0.0</td>\n",
       "      <td>0.0</td>\n",
       "      <td>1.0</td>\n",
       "      <td>0.0</td>\n",
       "    </tr>\n",
       "    <tr>\n",
       "      <th>3</th>\n",
       "      <td>56</td>\n",
       "      <td>120</td>\n",
       "      <td>236</td>\n",
       "      <td>178</td>\n",
       "      <td>0.8</td>\n",
       "      <td>1</td>\n",
       "      <td>0.0</td>\n",
       "      <td>1.0</td>\n",
       "      <td>0.0</td>\n",
       "      <td>1.0</td>\n",
       "      <td>...</td>\n",
       "      <td>1.0</td>\n",
       "      <td>1.0</td>\n",
       "      <td>0.0</td>\n",
       "      <td>0.0</td>\n",
       "      <td>0.0</td>\n",
       "      <td>0.0</td>\n",
       "      <td>0.0</td>\n",
       "      <td>0.0</td>\n",
       "      <td>1.0</td>\n",
       "      <td>0.0</td>\n",
       "    </tr>\n",
       "    <tr>\n",
       "      <th>4</th>\n",
       "      <td>57</td>\n",
       "      <td>120</td>\n",
       "      <td>354</td>\n",
       "      <td>163</td>\n",
       "      <td>0.6</td>\n",
       "      <td>1</td>\n",
       "      <td>1.0</td>\n",
       "      <td>0.0</td>\n",
       "      <td>1.0</td>\n",
       "      <td>0.0</td>\n",
       "      <td>...</td>\n",
       "      <td>1.0</td>\n",
       "      <td>1.0</td>\n",
       "      <td>0.0</td>\n",
       "      <td>0.0</td>\n",
       "      <td>0.0</td>\n",
       "      <td>0.0</td>\n",
       "      <td>0.0</td>\n",
       "      <td>0.0</td>\n",
       "      <td>1.0</td>\n",
       "      <td>0.0</td>\n",
       "    </tr>\n",
       "  </tbody>\n",
       "</table>\n",
       "<p>5 rows × 31 columns</p>\n",
       "</div>"
      ],
      "text/plain": [
       "   age  trestbps  chol  thalach  oldpeak  target  sex_0  sex_1  cp_0  cp_1  \\\n",
       "0   63       145   233      150      2.3       1    0.0    1.0   0.0   0.0   \n",
       "1   37       130   250      187      3.5       1    0.0    1.0   0.0   0.0   \n",
       "2   41       130   204      172      1.4       1    1.0    0.0   0.0   1.0   \n",
       "3   56       120   236      178      0.8       1    0.0    1.0   0.0   1.0   \n",
       "4   57       120   354      163      0.6       1    1.0    0.0   1.0   0.0   \n",
       "\n",
       "    ...    slope_2  ca_0  ca_1  ca_2  ca_3  ca_4  thal_0  thal_1  thal_2  \\\n",
       "0   ...        0.0   1.0   0.0   0.0   0.0   0.0     0.0     1.0     0.0   \n",
       "1   ...        0.0   1.0   0.0   0.0   0.0   0.0     0.0     0.0     1.0   \n",
       "2   ...        1.0   1.0   0.0   0.0   0.0   0.0     0.0     0.0     1.0   \n",
       "3   ...        1.0   1.0   0.0   0.0   0.0   0.0     0.0     0.0     1.0   \n",
       "4   ...        1.0   1.0   0.0   0.0   0.0   0.0     0.0     0.0     1.0   \n",
       "\n",
       "   thal_3  \n",
       "0     0.0  \n",
       "1     0.0  \n",
       "2     0.0  \n",
       "3     0.0  \n",
       "4     0.0  \n",
       "\n",
       "[5 rows x 31 columns]"
      ]
     },
     "execution_count": 7,
     "metadata": {},
     "output_type": "execute_result"
    }
   ],
   "source": [
    "clean_df.head()"
   ]
  },
  {
   "cell_type": "code",
   "execution_count": 8,
   "metadata": {
    "colab": {},
    "colab_type": "code",
    "id": "ta8NwJ0PMPNv"
   },
   "outputs": [],
   "source": [
    "# Returns shuffled arrays of test indices and training indices\n",
    "def test_train_ids(N,frac):\n",
    "    inds = np.arange(N)\n",
    "    np.random.shuffle(inds)\n",
    "    n = int(frac*N)\n",
    "    return inds[:n], inds[n:]"
   ]
  },
  {
   "cell_type": "code",
   "execution_count": 9,
   "metadata": {
    "colab": {},
    "colab_type": "code",
    "id": "NBkKZ39mVjf7"
   },
   "outputs": [],
   "source": [
    "from datetime import datetime\n",
    "\n",
    "def cross_val_class_accuracy(model, X, y, test_Frac, reps, name=False, verbose=True):\n",
    "    if verbose:\n",
    "        if not name:\n",
    "            name = type(model).__name__\n",
    "        print(\"Cross validating model:\", name)\n",
    "    accuracy = 0\n",
    "    start_time = datetime.now()\n",
    "    for i in range(reps):\n",
    "        # Generate random indices for training and testing data sets\n",
    "        [testing_indices, training_indices] = test_train_ids(X.shape[0], test_Frac)\n",
    "        \n",
    "        # Extract sets from data\n",
    "        training_data = X[training_indices, :]\n",
    "        testing_data = X[testing_indices, :]\n",
    "        training_labels = y[training_indices]\n",
    "        testing_labels = y[testing_indices]\n",
    "        \n",
    "        # Normalize data\n",
    "        training_mean = training_data.mean(axis=0)\n",
    "        training_data = training_data - training_mean\n",
    "        testing_data = testing_data - training_mean\n",
    "\n",
    "        # Train model using training data and corresponding labels\n",
    "        model.fit(training_data, training_labels)\n",
    "\n",
    "        # Predict testing data and compare to actual data\n",
    "        prediction = model.predict(testing_data)\n",
    "        accuracy += sum(prediction == testing_labels) / len(testing_labels)\n",
    "    cv_acc = accuracy / reps\n",
    "    timediff = datetime.now() - start_time\n",
    "    if verbose:\n",
    "        print(\"Done! (\", timediff.total_seconds(), \"seconds )\")\n",
    "        print(\"Accuracy:\", cv_acc * 100, \"%\")\n",
    "        print(\"----------------------------------\")\n",
    "    return cv_acc"
   ]
  },
  {
   "cell_type": "markdown",
   "metadata": {},
   "source": [
    "## Cross validation accuracy of different models"
   ]
  },
  {
   "cell_type": "markdown",
   "metadata": {},
   "source": [
    "Our data will be separated 80-20 for model selection and final testing. We will do cross validation on the 80%, further splitting it up for testing and training and use it to select the best model, then we will test our best models on the final unused 20%."
   ]
  },
  {
   "cell_type": "code",
   "execution_count": 10,
   "metadata": {
    "colab": {},
    "colab_type": "code",
    "id": "gfPMXBXF_PI3"
   },
   "outputs": [
    {
     "name": "stdout",
     "output_type": "stream",
     "text": [
      "Cross validating model: KNeighborsClassifier\n",
      "Done! ( 0.509928 seconds )\n",
      "Accuracy: 59.34375000000001 %\n",
      "----------------------------------\n",
      "Cross validating model: KNeighborsClassifier\n",
      "Done! ( 0.526748 seconds )\n",
      "Accuracy: 64.70833333333334 %\n",
      "----------------------------------\n",
      "Cross validating model: LinearDiscriminantAnalysis\n",
      "Done! ( 0.695889 seconds )\n",
      "Accuracy: 83.22916666666669 %\n",
      "----------------------------------\n",
      "Cross validating model: SVC\n",
      "Done! ( 136.225516 seconds )\n",
      "Accuracy: 84.20833333333333 %\n",
      "----------------------------------\n",
      "Cross validating model: DecisionTreeClassifier\n",
      "Done! ( 0.376506 seconds )\n",
      "Accuracy: 74.34375000000001 %\n",
      "----------------------------------\n",
      "Cross validating model: LogisticRegression\n",
      "Done! ( 0.742642 seconds )\n",
      "Accuracy: 84.04166666666669 %\n",
      "----------------------------------\n"
     ]
    }
   ],
   "source": [
    "from sklearn.neighbors import KNeighborsClassifier\n",
    "from sklearn.discriminant_analysis import LinearDiscriminantAnalysis as LDA\n",
    "from sklearn.linear_model import LogisticRegression as LogR\n",
    "from sklearn.svm import SVC\n",
    "from sklearn import tree\n",
    "import warnings\n",
    "warnings.filterwarnings(\"ignore\")\n",
    "\n",
    "# Generate models\n",
    "models = [KNeighborsClassifier(n_neighbors=2), \n",
    "          KNeighborsClassifier(n_neighbors=10), \n",
    "          LDA(), SVC(kernel='linear'), \n",
    "          tree.DecisionTreeClassifier(),\n",
    "         LogR()]\n",
    "model_names = [\"KNN (N = 2)\", \"KNN (N = 10)\", \"LDA\", \"SVC (Linear)\", \"Decision Tree\", \"Logistic Regression\"]\n",
    "\n",
    "# Extract training/cv data\n",
    "[testX, trainX] = test_train_ids(len(X), 0.2)\n",
    "test_data = X[testX, :]\n",
    "test_labels = y[testX]\n",
    "train_data = X[trainX, :]\n",
    "train_labels = y[trainX]\n",
    "\n",
    "# Calculate accuracies for each model\n",
    "initial_result = []\n",
    "for x in range(len(models)):\n",
    "    model = models[x]\n",
    "    value = cross_val_class_accuracy(model, train_data, train_labels, 0.2, 200)\n",
    "    initial_result.append(value)"
   ]
  },
  {
   "cell_type": "code",
   "execution_count": 11,
   "metadata": {
    "colab": {},
    "colab_type": "code",
    "id": "ymLPZZkl_4-u",
    "scrolled": false
   },
   "outputs": [
    {
     "data": {
      "image/png": "[encoded data removed]",
      "text/plain": [
       "<Figure size 720x432 with 1 Axes>"
      ]
     },
     "metadata": {
      "needs_background": "light"
     },
     "output_type": "display_data"
    }
   ],
   "source": [
    "plt.figure(figsize=(10,6))\n",
    "plt.bar(model_names, initial_result, facecolor='none', edgecolor='black')\n",
    "plt.xlabel(\"Models\")\n",
    "plt.ylabel(\"Accuracy (%)\")\n",
    "plt.title(\"Accuracies of different models\");"
   ]
  },
  {
   "cell_type": "markdown",
   "metadata": {},
   "source": [
    "LDA, SVC, and Logistic Regression models have the highest accuracy on the cross validation set, we will focus on these 3 for the rest."
   ]
  },
  {
   "cell_type": "markdown",
   "metadata": {},
   "source": [
    "# Testing different hyperparameters"
   ]
  },
  {
   "cell_type": "markdown",
   "metadata": {},
   "source": [
    "## Support Vector Machine"
   ]
  },
  {
   "cell_type": "code",
   "execution_count": 12,
   "metadata": {
    "colab": {},
    "colab_type": "code",
    "id": "YrRFfs-osAUp"
   },
   "outputs": [
    {
     "name": "stdout",
     "output_type": "stream",
     "text": [
      "Cross validating model: Radial basis function\n",
      "Done! ( 1.545026 seconds )\n",
      "Accuracy: 57.739583333333336 %\n",
      "----------------------------------\n",
      "Cross validating model: Linear\n",
      "Done! ( 118.980619 seconds )\n",
      "Accuracy: 82.08333333333337 %\n",
      "----------------------------------\n",
      "Cross validating model: Polynomial $n=2$\n",
      "Done! ( 1832.077707 seconds )\n",
      "Accuracy: 59.156249999999986 %\n",
      "----------------------------------\n",
      "Cross validating model: Polynomial $n=3$\n",
      "Done! ( 421.708488 seconds )\n",
      "Accuracy: 73.79166666666669 %\n",
      "----------------------------------\n",
      "Cross validating model: Sigmoid\n",
      "Done! ( 0.946396 seconds )\n",
      "Accuracy: 57.91666666666666 %\n",
      "----------------------------------\n"
     ]
    }
   ],
   "source": [
    "svm_models = [SVC(kernel='rbf'), SVC(kernel='linear'),\n",
    "          SVC(kernel='poly', degree=2), SVC(kernel='poly', degree=3),\n",
    "         SVC(kernel='sigmoid')]\n",
    "svm_names = ['Radial basis function', 'Linear', 'Polynomial $n=2$',\n",
    "        'Polynomial $n=3$', 'Sigmoid']\n",
    "\n",
    "svm_accuracies = []\n",
    "for model, name in zip(svm_models, svm_names):\n",
    "    acc = cross_val_class_accuracy(model, train_data, train_labels, 0.2, 200, name)\n",
    "    svm_accuracies.append(acc)"
   ]
  },
  {
   "cell_type": "code",
   "execution_count": 14,
   "metadata": {},
   "outputs": [
    {
     "data": {
      "image/png": "[encoded data removed]",
      "text/plain": [
       "<Figure size 720x432 with 1 Axes>"
      ]
     },
     "metadata": {
      "needs_background": "light"
     },
     "output_type": "display_data"
    }
   ],
   "source": [
    "plt.figure(figsize=(10,6))\n",
    "plt.bar(svm_names, svm_accuracies, facecolor='none', edgecolor='black')\n",
    "plt.xlabel(\"Models\")\n",
    "plt.xticks(rotation=45)\n",
    "plt.ylabel(\"Accuracy (%)\")\n",
    "plt.title(\"Accuracies of different SVM kernels\");"
   ]
  },
  {
   "cell_type": "markdown",
   "metadata": {},
   "source": [
    "Linear kernels for SVC has highest accuracy, however all the SVM models take a long time to train."
   ]
  },
  {
   "cell_type": "code",
   "execution_count": 15,
   "metadata": {},
   "outputs": [],
   "source": [
    "def try_penalties(penalties, model_func, reps):\n",
    "    # penalties is an array of penalties to be tried, model_func is a function handle that takes\n",
    "    # one argument and returns an initialized model with the argument as a penalty\n",
    "    start_time = datetime.now()\n",
    "    accuracies = []\n",
    "    for p in penalties:\n",
    "        model = model_func(p)\n",
    "        acc = cross_val_class_accuracy(model, train_data, train_labels, 0.2, reps, verbose=False)\n",
    "        accuracies.append(acc)\n",
    "    time = (datetime.now() - start_time).total_seconds()\n",
    "    print('Time elapsed:', time)\n",
    "    if time > 1000:\n",
    "        print('ouch')\n",
    "    return accuracies"
   ]
  },
  {
   "cell_type": "code",
   "execution_count": 16,
   "metadata": {},
   "outputs": [
    {
     "name": "stdout",
     "output_type": "stream",
     "text": [
      "Time elapsed: 490.563861\n"
     ]
    }
   ],
   "source": [
    "svc_func = lambda p : SVC(kernel='linear', C=p)\n",
    "penalties = [0.01,0.02,0.04,0.08,0.16,0.32,0.64,1.28,2.56,5.12,10.24]\n",
    "svm_penalty_accs = try_penalties(penalties, svc_func, 50) # use less reps for SVC so we don't die of old age"
   ]
  },
  {
   "cell_type": "code",
   "execution_count": 18,
   "metadata": {},
   "outputs": [
    {
     "name": "stdout",
     "output_type": "stream",
     "text": [
      "Best penalty for this model: C =  5.12\n"
     ]
    },
    {
     "data": {
      "image/png": "[encoded data removed]",
      "text/plain": [
       "<Figure size 432x288 with 1 Axes>"
      ]
     },
     "metadata": {
      "needs_background": "light"
     },
     "output_type": "display_data"
    }
   ],
   "source": [
    "plt.plot(penalties, svm_penalty_accs, color='black')\n",
    "plt.title('Accuracy of a linear SVM model with different penalties')\n",
    "plt.xlabel('Penalty')\n",
    "plt.ylabel('Accuracy')\n",
    "\n",
    "peak_penalty_svm = penalties[np.argmax(svm_penalty_accs)]\n",
    "print(\"Best penalty for this model: C = \", peak_penalty_svm)"
   ]
  },
  {
   "cell_type": "markdown",
   "metadata": {},
   "source": [
    "## Logistic Regression"
   ]
  },
  {
   "cell_type": "code",
   "execution_count": 20,
   "metadata": {},
   "outputs": [
    {
     "name": "stdout",
     "output_type": "stream",
     "text": [
      "Time elapsed: 7.983607\n"
     ]
    }
   ],
   "source": [
    "logr_func = lambda p : LogR(C=p)\n",
    "logr_penalty_accs = try_penalties(penalties, logr_func, 200)"
   ]
  },
  {
   "cell_type": "code",
   "execution_count": 25,
   "metadata": {},
   "outputs": [
    {
     "name": "stdout",
     "output_type": "stream",
     "text": [
      "Best penalty for this model: C =  0.64\n"
     ]
    },
    {
     "data": {
      "image/png": "[encoded data removed]",
      "text/plain": [
       "<Figure size 432x288 with 1 Axes>"
      ]
     },
     "metadata": {
      "needs_background": "light"
     },
     "output_type": "display_data"
    }
   ],
   "source": [
    "plt.plot(penalties, logr_penalty_accs, color='black')\n",
    "plt.title('Accuracy of LogR with different penalties')\n",
    "plt.xlabel('Penalty')\n",
    "plt.ylabel('Accuracy')\n",
    "\n",
    "peak_penalty_logr = penalties[np.argmax(logr_penalty_accs)]\n",
    "print(\"Best penalty for this model: C = \", peak_penalty_logr)"
   ]
  },
  {
   "cell_type": "code",
   "execution_count": 28,
   "metadata": {},
   "outputs": [
    {
     "name": "stdout",
     "output_type": "stream",
     "text": [
      "Time elapsed: 29.896986\n"
     ]
    }
   ],
   "source": [
    "# zoom in\n",
    "penalties = np.arange(peak_penalty_logr - 0.2, peak_penalty_logr + 0.2, 0.01);\n",
    "logr_penalty_accs = try_penalties(penalties, logr_func, 200)"
   ]
  },
  {
   "cell_type": "code",
   "execution_count": 29,
   "metadata": {},
   "outputs": [
    {
     "name": "stdout",
     "output_type": "stream",
     "text": [
      "Best penalty for this model: C =  0.5900000000000001\n"
     ]
    },
    {
     "data": {
      "image/png": "[encoded data removed]",
      "text/plain": [
       "<Figure size 432x288 with 1 Axes>"
      ]
     },
     "metadata": {
      "needs_background": "light"
     },
     "output_type": "display_data"
    }
   ],
   "source": [
    "plt.plot(penalties, logr_penalty_accs, color='black')\n",
    "plt.title('Accuracy of LogR with different penalties')\n",
    "plt.xlabel('Penalty')\n",
    "plt.ylabel('Accuracy')\n",
    "\n",
    "peak_penalty_logr = penalties[np.argmax(logr_penalty_accs)]\n",
    "print(\"Best penalty for this model: C = \", peak_penalty_logr)"
   ]
  },
  {
   "cell_type": "markdown",
   "metadata": {},
   "source": [
    "The graph above changes every time you run it. The range of accuracy is very small as well. No point in going any further than the first penalty analysis."
   ]
  },
  {
   "cell_type": "markdown",
   "metadata": {},
   "source": [
    "# Explore which variables are most effective in the model"
   ]
  },
  {
   "cell_type": "code",
   "execution_count": 31,
   "metadata": {},
   "outputs": [
    {
     "name": "stdout",
     "output_type": "stream",
     "text": [
      "Evaluating age\n",
      "Accuracy without: 0.8364583333333337 , alone: 0.5820833333333333\n",
      "\n",
      "Evaluating sex\n",
      "Accuracy without: 0.8337500000000004 , alone: 0.651041666666667\n",
      "\n",
      "Evaluating cp\n",
      "Accuracy without: 0.8183333333333335 , alone: 0.7633333333333339\n",
      "\n",
      "Evaluating trestbps\n",
      "Accuracy without: 0.8266666666666659 , alone: 0.5656249999999998\n",
      "\n",
      "Evaluating chol\n",
      "Accuracy without: 0.8390624999999996 , alone: 0.5224999999999999\n",
      "\n",
      "Evaluating fbs\n",
      "Accuracy without: 0.8415624999999999 , alone: 0.5201041666666666\n",
      "\n",
      "Evaluating restecg\n",
      "Accuracy without: 0.8406250000000003 , alone: 0.5198958333333334\n",
      "\n",
      "Evaluating thalach\n",
      "Accuracy without: 0.8322916666666669 , alone: 0.6985416666666666\n",
      "\n",
      "Evaluating exang\n",
      "Accuracy without: 0.8322916666666668 , alone: 0.7048958333333334\n",
      "\n",
      "Evaluating oldpeak\n",
      "Accuracy without: 0.8311458333333333 , alone: 0.6685416666666666\n",
      "\n",
      "Evaluating slope\n",
      "Accuracy without: 0.8336458333333332 , alone: 0.6947916666666666\n",
      "\n",
      "Evaluating ca\n",
      "Accuracy without: 0.8190624999999996 , alone: 0.7370833333333339\n",
      "\n",
      "Evaluating thal\n",
      "Accuracy without: 0.8255208333333337 , alone: 0.7866666666666667\n",
      "\n"
     ]
    }
   ],
   "source": [
    "# make sure we are using the same cross val set\n",
    "accs = []\n",
    "train_df = df.iloc[trainX]\n",
    "# exclude last column, which is what we are predicting\n",
    "columns = df.columns[:-1]\n",
    "for col in columns:\n",
    "    # model excluding this columns\n",
    "    reduced_df = train_df.drop(col, axis=1)\n",
    "    clean_red_df = onehot_df(reduced_df)\n",
    "    \n",
    "    # model using only this column\n",
    "    clean_solo_col = train_df[[col, 'target']]\n",
    "    if col in ['sex', 'cp', 'fbs', 'restecg', 'exang', 'slope', 'ca', 'thal']:\n",
    "        clean_solo_col = onehot_df(clean_solo_col)\n",
    "        \n",
    "    X1 = clean_red_df.drop('target', axis=1).values\n",
    "    y = clean_red_df['target'].values\n",
    "    X2 = clean_solo_col.drop('target', axis=1).values\n",
    "    # use highest performing model thus far\n",
    "    model1 = LogR(C=peak_penalty_logr)\n",
    "    model2 = LogR(C=peak_penalty_logr)\n",
    "    print('Evaluating',col)\n",
    "    acc_wo = cross_val_class_accuracy(model1, X1, y, 0.2, 200, verbose=False)\n",
    "    acc_alone = cross_val_class_accuracy(model2, X2, y, 0.2, 200, verbose=False)\n",
    "    print('Accuracy without:', acc_wo, ', alone:', acc_alone)\n",
    "    print()\n",
    "    accs.append([acc_wo, acc_alone])"
   ]
  },
  {
   "cell_type": "code",
   "execution_count": 39,
   "metadata": {},
   "outputs": [
    {
     "data": {
      "image/png": "[encoded data removed]",
      "text/plain": [
       "<Figure size 720x432 with 1 Axes>"
      ]
     },
     "metadata": {
      "needs_background": "light"
     },
     "output_type": "display_data"
    }
   ],
   "source": [
    "full_logr_acc = cross_val_class_accuracy(LogR(C=peak_penalty_logr), train_data, train_labels, 0.2, 200, verbose=False)\n",
    "accs = np.array(accs)\n",
    "diff = full_logr_acc - accs[:,0]\n",
    "\n",
    "fig, ax = plt.subplots(1, 1, figsize=(10,6))\n",
    "ax.bar(columns, diff*accs[:,1], facecolor='none', edgecolor='black')\n",
    "ax.set_title('Importance of variables in predicting heart disease',fontsize=15)\n",
    "ax.set_xlabel('Variable', fontsize=13)\n",
    "ax.set_ylabel('Importance', fontsize=13)\n",
    "ax.tick_params('x', rotation=45)"
   ]
  },
  {
   "cell_type": "markdown",
   "metadata": {},
   "source": [
    "It seems that the `fbs`, `chol`, `restecg`, and `age` variables do not impact the accuracy of the model much, or even negatively impact it. "
   ]
  },
  {
   "cell_type": "code",
   "execution_count": 40,
   "metadata": {},
   "outputs": [],
   "source": [
    "# make a reduced df excluding the \"bad\" columns\n",
    "reduced_df = df.drop(['fbs', 'chol', 'restecg', 'age'], axis=1)"
   ]
  },
  {
   "cell_type": "markdown",
   "metadata": {},
   "source": [
    "# Final testing of the top models"
   ]
  },
  {
   "cell_type": "markdown",
   "metadata": {},
   "source": [
    "We have found the best hyperparameters and options for a SVM model, a LogR model and a LDA model. Now we will test them all on the withheld testing set and see which is actually best. We will also compare the reduced data set to the full set."
   ]
  },
  {
   "cell_type": "code",
   "execution_count": 44,
   "metadata": {},
   "outputs": [],
   "source": [
    "# two of each, the first for the full data set, the second for the reduced\n",
    "final_models = [SVC(kernel='linear', C=peak_penalty_svm), SVC(kernel='linear', C=peak_penalty_svm),\n",
    "                LinearDiscriminantAnalysis(), LinearDiscriminantAnalysis(), \n",
    "                LogR(C=peak_penalty_logr), LogR(C=peak_penalty_logr)]\n",
    "reduced_X = reduced_df.drop('target', axis=1).values\n",
    "reduced_test_data = reduced_X[testX,:]\n",
    "reduced_train_data = reduced_X[trainX,:]\n",
    "\n",
    "final_accs = []\n",
    "for i in range(3):\n",
    "    final_models[2*i].fit(train_data, train_labels)\n",
    "    final_models[2*i+1].fit(reduced_train_data, train_labels)\n",
    "    full_acc = final_models[2*i].score(test_data, test_labels)\n",
    "    red_acc = final_models[2*i+1].score(reduced_test_data, test_labels)\n",
    "    final_accs.append(full_acc)\n",
    "    final_accs.append(red_acc)"
   ]
  },
  {
   "cell_type": "code",
   "execution_count": 50,
   "metadata": {},
   "outputs": [
    {
     "data": {
      "image/png": "[encoded data removed]",
      "text/plain": [
       "<Figure size 720x432 with 1 Axes>"
      ]
     },
     "metadata": {
      "needs_background": "light"
     },
     "output_type": "display_data"
    }
   ],
   "source": [
    "names = ['SVM', 'SVM (reduced)', 'LDA', 'LDA (reduced)', 'LogR', 'LogR (reduced)']\n",
    "plt.figure(figsize=(10,6))\n",
    "plt.bar(names, final_accs, facecolor='none', edgecolor='black')\n",
    "plt.title('Final accuracy of selected models')\n",
    "plt.xlabel('Model')\n",
    "plt.ylabel('Accuracy');"
   ]
  },
  {
   "cell_type": "markdown",
   "metadata": {},
   "source": [
    "In the end, the LDA model and the LogR model performed the best."
   ]
  }
 ],
 "metadata": {
  "colab": {
   "collapsed_sections": [],
   "name": "BIOL 419 project.ipynb",
   "provenance": [],
   "version": "0.3.2"
  },
  "kernelspec": {
   "display_name": "Python 3",
   "language": "python",
   "name": "python3"
  },
  "language_info": {
   "codemirror_mode": {
    "name": "ipython",
    "version": 3
   },
   "file_extension": ".py",
   "mimetype": "text/x-python",
   "name": "python",
   "nbconvert_exporter": "python",
   "pygments_lexer": "ipython3",
   "version": "3.7.0"
  }
 },
 "nbformat": 4,
 "nbformat_minor": 1
}
