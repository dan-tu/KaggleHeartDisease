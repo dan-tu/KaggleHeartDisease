{
 "cells": [
  {
   "cell_type": "code",
   "execution_count": 3,
   "metadata": {},
   "outputs": [
    {
     "name": "stdout",
     "output_type": "stream",
     "text": [
      "   age  trestbps  chol  thalach  oldpeak  target  sex_0  sex_1  cp_0  cp_1  \\\n",
      "0   63       145   233      150      2.3       1    0.0    1.0   0.0   0.0   \n",
      "1   37       130   250      187      3.5       1    0.0    1.0   0.0   0.0   \n",
      "2   41       130   204      172      1.4       1    1.0    0.0   0.0   1.0   \n",
      "3   56       120   236      178      0.8       1    0.0    1.0   0.0   1.0   \n",
      "4   57       120   354      163      0.6       1    1.0    0.0   1.0   0.0   \n",
      "\n",
      "    ...    slope_2  ca_0  ca_1  ca_2  ca_3  ca_4  thal_0  thal_1  thal_2  \\\n",
      "0   ...        0.0   1.0   0.0   0.0   0.0   0.0     0.0     1.0     0.0   \n",
      "1   ...        0.0   1.0   0.0   0.0   0.0   0.0     0.0     0.0     1.0   \n",
      "2   ...        1.0   1.0   0.0   0.0   0.0   0.0     0.0     0.0     1.0   \n",
      "3   ...        1.0   1.0   0.0   0.0   0.0   0.0     0.0     0.0     1.0   \n",
      "4   ...        1.0   1.0   0.0   0.0   0.0   0.0     0.0     0.0     1.0   \n",
      "\n",
      "   thal_3  \n",
      "0     0.0  \n",
      "1     0.0  \n",
      "2     0.0  \n",
      "3     0.0  \n",
      "4     0.0  \n",
      "\n",
      "[5 rows x 31 columns]\n"
     ]
    }
   ],
   "source": [
    "# Load Data\n",
    "import numpy as np\n",
    "import matplotlib.pyplot as plt\n",
    "import pandas as pd\n",
    "from sklearn.discriminant_analysis import LinearDiscriminantAnalysis as LDA\n",
    "\n",
    "clean_df = pd.read_csv('Clean Data.csv')\n",
    "clean_df = clean_df.iloc[:, 1:]\n",
    "print(clean_df.head())\n",
    "y = clean_df.iloc[:, 5].values\n",
    "X = clean_df.drop('target', axis=1).values"
   ]
  },
  {
   "cell_type": "markdown",
   "metadata": {},
   "source": [
    "# Try different hyperparams"
   ]
  },
  {
   "cell_type": "code",
   "execution_count": 7,
   "metadata": {},
   "outputs": [],
   "source": [
    "# Returns shuffled arrays of test indices and training indices\n",
    "def test_train_ids(N,frac):\n",
    "  inds = np.arange(N)\n",
    "  np.random.shuffle(inds)\n",
    "  n = int(frac*N)\n",
    "  return inds[:n], inds[n:]\n",
    "\n",
    "from datetime import datetime\n",
    "import warnings\n",
    "warnings.simplefilter('ignore')\n",
    "\n",
    "def cross_val_class_accuracy(model, X, y, test_Frac, reps, name=False, verbose=True):\n",
    "    if verbose:\n",
    "        if not name:\n",
    "            name = type(model).__name__\n",
    "        print(\"Cross validating model:\", name)\n",
    "    accuracy = 0\n",
    "    start_time = datetime.now()\n",
    "    for i in range(reps):\n",
    "        # Generate random indices for training and testing data sets\n",
    "        [testing_indices, training_indices] = test_train_ids(X.shape[0], test_Frac)\n",
    "        \n",
    "        # Extract sets from data\n",
    "        training_data = X[training_indices, :]\n",
    "        testing_data = X[testing_indices, :]\n",
    "        training_labels = y[training_indices]\n",
    "        testing_labels = y[testing_indices]\n",
    "        \n",
    "        # Normalize data\n",
    "        training_mean = training_data.mean(axis=0)\n",
    "        training_data = training_data - training_mean\n",
    "        testing_data = testing_data - training_mean\n",
    "\n",
    "        # Train model using training data and corresponding labels\n",
    "        model.fit(training_data, training_labels)\n",
    "\n",
    "        # Predict testing data and compare to actual data\n",
    "        prediction = model.predict(testing_data)\n",
    "        accuracy += sum(prediction == testing_labels) / len(testing_labels)\n",
    "    cv_acc = accuracy / reps\n",
    "    timediff = datetime.now() - start_time\n",
    "    if verbose:\n",
    "        print(\"Done! (\", timediff.total_seconds(), \"seconds )\")\n",
    "        print(\"Accuracy:\", cv_acc * 100, \"%\")\n",
    "        print(\"----------------------------------\")\n",
    "    return cv_acc"
   ]
  },
  {
   "cell_type": "code",
   "execution_count": 19,
   "metadata": {},
   "outputs": [
    {
     "name": "stdout",
     "output_type": "stream",
     "text": [
      "Done\n"
     ]
    },
    {
     "data": {
      "image/png": "[encoded data removed]",
      "text/plain": [
       "<Figure size 432x288 with 1 Axes>"
      ]
     },
     "metadata": {
      "needs_background": "light"
     },
     "output_type": "display_data"
    },
    {
     "name": "stdout",
     "output_type": "stream",
     "text": [
      "Highest acc # of components: 2\n"
     ]
    }
   ],
   "source": [
    "models = []\n",
    "for i in range(30):\n",
    "    models.append(LDA(n_components=i))\n",
    "\n",
    "diff_solv_acc = []\n",
    "for i in range(30):\n",
    "    diff_solv_acc.append(cross_val_class_accuracy(models[i], X, y, 0.2, 500, verbose=False))\n",
    "print(\"Done\")\n",
    "\n",
    "plt.plot(range(30), diff_solv_acc)\n",
    "plt.title('LDA accuracy by n_components')\n",
    "plt.xlabel('n_components')\n",
    "plt.ylabel('Accuracy')\n",
    "plt.show()\n",
    "print(\"Highest acc # of components:\", np.argmax(diff_solv_acc))"
   ]
  },
  {
   "cell_type": "markdown",
   "metadata": {},
   "source": [
    "Changes every time. Guess this doesn't make a diff "
   ]
  },
  {
   "cell_type": "code",
   "execution_count": null,
   "metadata": {},
   "outputs": [],
   "source": []
  }
 ],
 "metadata": {
  "kernelspec": {
   "display_name": "Python 3",
   "language": "python",
   "name": "python3"
  },
  "language_info": {
   "codemirror_mode": {
    "name": "ipython",
    "version": 3
   },
   "file_extension": ".py",
   "mimetype": "text/x-python",
   "name": "python",
   "nbconvert_exporter": "python",
   "pygments_lexer": "ipython3",
   "version": "3.7.1"
  }
 },
 "nbformat": 4,
 "nbformat_minor": 2
}
